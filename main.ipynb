{
 "cells": [
  {
   "cell_type": "code",
   "execution_count": 2,
   "metadata": {
    "colab": {},
    "colab_type": "code",
    "id": "qYm50o9hBlcM"
   },
   "outputs": [],
   "source": [
    "import matplotlib.pyplot as plt\n",
    "import numpy as np\n",
    "import pandas as pd\n",
    "import sklearn.linear_model\n"
   ]
  },
  {
   "cell_type": "markdown",
   "metadata": {
    "colab_type": "text",
    "id": "tSvSeh8vC_Uq"
   },
   "source": [
    "Load the data"
   ]
  },
  {
   "cell_type": "code",
   "execution_count": 3,
   "metadata": {
    "colab": {},
    "colab_type": "code",
    "id": "9WEiZ2SnByz3"
   },
   "outputs": [],
   "source": [
    "# Better Life Index data\n",
    "bli = pd.read_csv(\"https://raw.githubusercontent.com/jzucchet/scikit-linear-model/master/data/bli_original.csv\", delimiter=',')\n",
    "life_sat_total = bli[bli[\"INEQUALITY\"] == \"TOT\"]\n",
    "life_sat_total = life_sat_total.pivot(index=\"Country\", columns=\"Indicator\", values=\"Value\")\n",
    "\n"
   ]
  },
  {
   "cell_type": "code",
   "execution_count": 4,
   "metadata": {
    "colab": {
     "base_uri": "https://localhost:8080/",
     "height": 386
    },
    "colab_type": "code",
    "id": "hNfO0ehsKGjj",
    "outputId": "8ba0082e-817e-401d-98c8-fb9611ed0918"
   },
   "outputs": [
    {
     "data": {
      "text/html": [
       "<div>\n",
       "<style scoped>\n",
       "    .dataframe tbody tr th:only-of-type {\n",
       "        vertical-align: middle;\n",
       "    }\n",
       "\n",
       "    .dataframe tbody tr th {\n",
       "        vertical-align: top;\n",
       "    }\n",
       "\n",
       "    .dataframe thead th {\n",
       "        text-align: right;\n",
       "    }\n",
       "</style>\n",
       "<table border=\"1\" class=\"dataframe\">\n",
       "  <thead>\n",
       "    <tr style=\"text-align: right;\">\n",
       "      <th>Indicator</th>\n",
       "      <th>Air pollution</th>\n",
       "      <th>Dwellings without basic facilities</th>\n",
       "      <th>Educational attainment</th>\n",
       "      <th>Employees working very long hours</th>\n",
       "      <th>Employment rate</th>\n",
       "      <th>Feeling safe walking alone at night</th>\n",
       "      <th>Homicide rate</th>\n",
       "      <th>Household net adjusted disposable income</th>\n",
       "      <th>Household net financial wealth</th>\n",
       "      <th>Housing expenditure</th>\n",
       "      <th>...</th>\n",
       "      <th>Personal earnings</th>\n",
       "      <th>Quality of support network</th>\n",
       "      <th>Rooms per person</th>\n",
       "      <th>Self-reported health</th>\n",
       "      <th>Stakeholder engagement for developing regulations</th>\n",
       "      <th>Student skills</th>\n",
       "      <th>Time devoted to leisure and personal care</th>\n",
       "      <th>Voter turnout</th>\n",
       "      <th>Water quality</th>\n",
       "      <th>Years in education</th>\n",
       "    </tr>\n",
       "    <tr>\n",
       "      <th>Country</th>\n",
       "      <th></th>\n",
       "      <th></th>\n",
       "      <th></th>\n",
       "      <th></th>\n",
       "      <th></th>\n",
       "      <th></th>\n",
       "      <th></th>\n",
       "      <th></th>\n",
       "      <th></th>\n",
       "      <th></th>\n",
       "      <th></th>\n",
       "      <th></th>\n",
       "      <th></th>\n",
       "      <th></th>\n",
       "      <th></th>\n",
       "      <th></th>\n",
       "      <th></th>\n",
       "      <th></th>\n",
       "      <th></th>\n",
       "      <th></th>\n",
       "      <th></th>\n",
       "    </tr>\n",
       "  </thead>\n",
       "  <tbody>\n",
       "    <tr>\n",
       "      <th>Australia</th>\n",
       "      <td>5.0</td>\n",
       "      <td>1.1</td>\n",
       "      <td>80.0</td>\n",
       "      <td>13.20</td>\n",
       "      <td>72.0</td>\n",
       "      <td>63.6</td>\n",
       "      <td>1.0</td>\n",
       "      <td>33417.0</td>\n",
       "      <td>57462.0</td>\n",
       "      <td>20.0</td>\n",
       "      <td>...</td>\n",
       "      <td>52063.0</td>\n",
       "      <td>94.0</td>\n",
       "      <td>2.3</td>\n",
       "      <td>85.0</td>\n",
       "      <td>2.7</td>\n",
       "      <td>502.0</td>\n",
       "      <td>14.35</td>\n",
       "      <td>91.0</td>\n",
       "      <td>92.0</td>\n",
       "      <td>21.2</td>\n",
       "    </tr>\n",
       "    <tr>\n",
       "      <th>Austria</th>\n",
       "      <td>16.0</td>\n",
       "      <td>1.0</td>\n",
       "      <td>85.0</td>\n",
       "      <td>6.78</td>\n",
       "      <td>72.0</td>\n",
       "      <td>80.7</td>\n",
       "      <td>0.4</td>\n",
       "      <td>32544.0</td>\n",
       "      <td>59574.0</td>\n",
       "      <td>21.0</td>\n",
       "      <td>...</td>\n",
       "      <td>48295.0</td>\n",
       "      <td>92.0</td>\n",
       "      <td>1.6</td>\n",
       "      <td>70.0</td>\n",
       "      <td>1.3</td>\n",
       "      <td>492.0</td>\n",
       "      <td>14.55</td>\n",
       "      <td>75.0</td>\n",
       "      <td>93.0</td>\n",
       "      <td>17.1</td>\n",
       "    </tr>\n",
       "    <tr>\n",
       "      <th>Belgium</th>\n",
       "      <td>15.0</td>\n",
       "      <td>2.3</td>\n",
       "      <td>75.0</td>\n",
       "      <td>4.31</td>\n",
       "      <td>62.0</td>\n",
       "      <td>70.7</td>\n",
       "      <td>1.0</td>\n",
       "      <td>29968.0</td>\n",
       "      <td>104084.0</td>\n",
       "      <td>21.0</td>\n",
       "      <td>...</td>\n",
       "      <td>49587.0</td>\n",
       "      <td>92.0</td>\n",
       "      <td>2.2</td>\n",
       "      <td>75.0</td>\n",
       "      <td>2.2</td>\n",
       "      <td>503.0</td>\n",
       "      <td>15.77</td>\n",
       "      <td>89.0</td>\n",
       "      <td>84.0</td>\n",
       "      <td>18.2</td>\n",
       "    </tr>\n",
       "    <tr>\n",
       "      <th>Brazil</th>\n",
       "      <td>10.0</td>\n",
       "      <td>6.7</td>\n",
       "      <td>49.0</td>\n",
       "      <td>7.15</td>\n",
       "      <td>64.0</td>\n",
       "      <td>37.3</td>\n",
       "      <td>27.6</td>\n",
       "      <td>12227.0</td>\n",
       "      <td>7102.0</td>\n",
       "      <td>20.0</td>\n",
       "      <td>...</td>\n",
       "      <td>14024.0</td>\n",
       "      <td>90.0</td>\n",
       "      <td>0.8</td>\n",
       "      <td>70.0</td>\n",
       "      <td>2.2</td>\n",
       "      <td>395.0</td>\n",
       "      <td>14.45</td>\n",
       "      <td>79.0</td>\n",
       "      <td>72.0</td>\n",
       "      <td>15.9</td>\n",
       "    </tr>\n",
       "    <tr>\n",
       "      <th>Canada</th>\n",
       "      <td>7.0</td>\n",
       "      <td>0.2</td>\n",
       "      <td>91.0</td>\n",
       "      <td>3.73</td>\n",
       "      <td>73.0</td>\n",
       "      <td>80.9</td>\n",
       "      <td>1.4</td>\n",
       "      <td>29850.0</td>\n",
       "      <td>85758.0</td>\n",
       "      <td>22.0</td>\n",
       "      <td>...</td>\n",
       "      <td>48403.0</td>\n",
       "      <td>93.0</td>\n",
       "      <td>2.5</td>\n",
       "      <td>88.0</td>\n",
       "      <td>3.0</td>\n",
       "      <td>523.0</td>\n",
       "      <td>14.41</td>\n",
       "      <td>68.0</td>\n",
       "      <td>91.0</td>\n",
       "      <td>16.7</td>\n",
       "    </tr>\n",
       "  </tbody>\n",
       "</table>\n",
       "<p>5 rows × 24 columns</p>\n",
       "</div>"
      ],
      "text/plain": [
       "Indicator  Air pollution  Dwellings without basic facilities  \\\n",
       "Country                                                        \n",
       "Australia            5.0                                 1.1   \n",
       "Austria             16.0                                 1.0   \n",
       "Belgium             15.0                                 2.3   \n",
       "Brazil              10.0                                 6.7   \n",
       "Canada               7.0                                 0.2   \n",
       "\n",
       "Indicator  Educational attainment  Employees working very long hours  \\\n",
       "Country                                                                \n",
       "Australia                    80.0                              13.20   \n",
       "Austria                      85.0                               6.78   \n",
       "Belgium                      75.0                               4.31   \n",
       "Brazil                       49.0                               7.15   \n",
       "Canada                       91.0                               3.73   \n",
       "\n",
       "Indicator  Employment rate  Feeling safe walking alone at night  \\\n",
       "Country                                                           \n",
       "Australia             72.0                                 63.6   \n",
       "Austria               72.0                                 80.7   \n",
       "Belgium               62.0                                 70.7   \n",
       "Brazil                64.0                                 37.3   \n",
       "Canada                73.0                                 80.9   \n",
       "\n",
       "Indicator  Homicide rate  Household net adjusted disposable income  \\\n",
       "Country                                                              \n",
       "Australia            1.0                                   33417.0   \n",
       "Austria              0.4                                   32544.0   \n",
       "Belgium              1.0                                   29968.0   \n",
       "Brazil              27.6                                   12227.0   \n",
       "Canada               1.4                                   29850.0   \n",
       "\n",
       "Indicator  Household net financial wealth  Housing expenditure  \\\n",
       "Country                                                          \n",
       "Australia                         57462.0                 20.0   \n",
       "Austria                           59574.0                 21.0   \n",
       "Belgium                          104084.0                 21.0   \n",
       "Brazil                             7102.0                 20.0   \n",
       "Canada                            85758.0                 22.0   \n",
       "\n",
       "Indicator         ...          Personal earnings  Quality of support network  \\\n",
       "Country           ...                                                          \n",
       "Australia         ...                    52063.0                        94.0   \n",
       "Austria           ...                    48295.0                        92.0   \n",
       "Belgium           ...                    49587.0                        92.0   \n",
       "Brazil            ...                    14024.0                        90.0   \n",
       "Canada            ...                    48403.0                        93.0   \n",
       "\n",
       "Indicator  Rooms per person  Self-reported health  \\\n",
       "Country                                             \n",
       "Australia               2.3                  85.0   \n",
       "Austria                 1.6                  70.0   \n",
       "Belgium                 2.2                  75.0   \n",
       "Brazil                  0.8                  70.0   \n",
       "Canada                  2.5                  88.0   \n",
       "\n",
       "Indicator  Stakeholder engagement for developing regulations  Student skills  \\\n",
       "Country                                                                        \n",
       "Australia                                                2.7           502.0   \n",
       "Austria                                                  1.3           492.0   \n",
       "Belgium                                                  2.2           503.0   \n",
       "Brazil                                                   2.2           395.0   \n",
       "Canada                                                   3.0           523.0   \n",
       "\n",
       "Indicator  Time devoted to leisure and personal care  Voter turnout  \\\n",
       "Country                                                               \n",
       "Australia                                      14.35           91.0   \n",
       "Austria                                        14.55           75.0   \n",
       "Belgium                                        15.77           89.0   \n",
       "Brazil                                         14.45           79.0   \n",
       "Canada                                         14.41           68.0   \n",
       "\n",
       "Indicator  Water quality  Years in education  \n",
       "Country                                       \n",
       "Australia           92.0                21.2  \n",
       "Austria             93.0                17.1  \n",
       "Belgium             84.0                18.2  \n",
       "Brazil              72.0                15.9  \n",
       "Canada              91.0                16.7  \n",
       "\n",
       "[5 rows x 24 columns]"
      ]
     },
     "execution_count": 4,
     "metadata": {},
     "output_type": "execute_result"
    }
   ],
   "source": [
    "life_sat_total.head()"
   ]
  },
  {
   "cell_type": "code",
   "execution_count": 5,
   "metadata": {
    "colab": {},
    "colab_type": "code",
    "id": "T2fbY7t8Cx7y"
   },
   "outputs": [],
   "source": [
    "# International Monetary Fund data\n",
    "imf = pd.read_csv(\"https://raw.githubusercontent.com/jzucchet/scikit-linear-model/master/data/imf-original.csv\", thousands='.', delimiter=';', na_values=\"n/a\", index_col=\"Country\")\n",
    "imf.rename(columns={\"2015\": \"GDP per capita\"}, inplace=True)"
   ]
  },
  {
   "cell_type": "code",
   "execution_count": 6,
   "metadata": {
    "colab": {
     "base_uri": "https://localhost:8080/",
     "height": 235
    },
    "colab_type": "code",
    "id": "m_5FpPEjHe2j",
    "outputId": "f15c2167-3517-4216-db43-ddf9b0dcdb01"
   },
   "outputs": [
    {
     "data": {
      "text/html": [
       "<div>\n",
       "<style scoped>\n",
       "    .dataframe tbody tr th:only-of-type {\n",
       "        vertical-align: middle;\n",
       "    }\n",
       "\n",
       "    .dataframe tbody tr th {\n",
       "        vertical-align: top;\n",
       "    }\n",
       "\n",
       "    .dataframe thead th {\n",
       "        text-align: right;\n",
       "    }\n",
       "</style>\n",
       "<table border=\"1\" class=\"dataframe\">\n",
       "  <thead>\n",
       "    <tr style=\"text-align: right;\">\n",
       "      <th></th>\n",
       "      <th>Subject Descriptor</th>\n",
       "      <th>Units</th>\n",
       "      <th>Scale</th>\n",
       "      <th>Country/Series-specific Notes</th>\n",
       "      <th>GDP per capita</th>\n",
       "      <th>Estimates Start After</th>\n",
       "    </tr>\n",
       "    <tr>\n",
       "      <th>Country</th>\n",
       "      <th></th>\n",
       "      <th></th>\n",
       "      <th></th>\n",
       "      <th></th>\n",
       "      <th></th>\n",
       "      <th></th>\n",
       "    </tr>\n",
       "  </thead>\n",
       "  <tbody>\n",
       "    <tr>\n",
       "      <th>Afghanistan</th>\n",
       "      <td>Gross domestic product per capita current prices</td>\n",
       "      <td>U.S. dollars</td>\n",
       "      <td>Units</td>\n",
       "      <td>See notes for:  Gross domestic product current...</td>\n",
       "      <td>600.0</td>\n",
       "      <td>2013.0</td>\n",
       "    </tr>\n",
       "    <tr>\n",
       "      <th>Albania</th>\n",
       "      <td>Gross domestic product per capita current prices</td>\n",
       "      <td>U.S. dollars</td>\n",
       "      <td>Units</td>\n",
       "      <td>See notes for:  Gross domestic product current...</td>\n",
       "      <td>3995.0</td>\n",
       "      <td>2010.0</td>\n",
       "    </tr>\n",
       "    <tr>\n",
       "      <th>Algeria</th>\n",
       "      <td>Gross domestic product per capita current prices</td>\n",
       "      <td>U.S. dollars</td>\n",
       "      <td>Units</td>\n",
       "      <td>See notes for:  Gross domestic product current...</td>\n",
       "      <td>4318.0</td>\n",
       "      <td>2014.0</td>\n",
       "    </tr>\n",
       "    <tr>\n",
       "      <th>Angola</th>\n",
       "      <td>Gross domestic product per capita current prices</td>\n",
       "      <td>U.S. dollars</td>\n",
       "      <td>Units</td>\n",
       "      <td>See notes for:  Gross domestic product current...</td>\n",
       "      <td>4100.0</td>\n",
       "      <td>2014.0</td>\n",
       "    </tr>\n",
       "    <tr>\n",
       "      <th>Antigua and Barbuda</th>\n",
       "      <td>Gross domestic product per capita current prices</td>\n",
       "      <td>U.S. dollars</td>\n",
       "      <td>Units</td>\n",
       "      <td>See notes for:  Gross domestic product current...</td>\n",
       "      <td>14414.0</td>\n",
       "      <td>2011.0</td>\n",
       "    </tr>\n",
       "  </tbody>\n",
       "</table>\n",
       "</div>"
      ],
      "text/plain": [
       "                                                   Subject Descriptor  \\\n",
       "Country                                                                 \n",
       "Afghanistan          Gross domestic product per capita current prices   \n",
       "Albania              Gross domestic product per capita current prices   \n",
       "Algeria              Gross domestic product per capita current prices   \n",
       "Angola               Gross domestic product per capita current prices   \n",
       "Antigua and Barbuda  Gross domestic product per capita current prices   \n",
       "\n",
       "                            Units  Scale  \\\n",
       "Country                                    \n",
       "Afghanistan          U.S. dollars  Units   \n",
       "Albania              U.S. dollars  Units   \n",
       "Algeria              U.S. dollars  Units   \n",
       "Angola               U.S. dollars  Units   \n",
       "Antigua and Barbuda  U.S. dollars  Units   \n",
       "\n",
       "                                         Country/Series-specific Notes  \\\n",
       "Country                                                                  \n",
       "Afghanistan          See notes for:  Gross domestic product current...   \n",
       "Albania              See notes for:  Gross domestic product current...   \n",
       "Algeria              See notes for:  Gross domestic product current...   \n",
       "Angola               See notes for:  Gross domestic product current...   \n",
       "Antigua and Barbuda  See notes for:  Gross domestic product current...   \n",
       "\n",
       "                     GDP per capita  Estimates Start After  \n",
       "Country                                                     \n",
       "Afghanistan                   600.0                 2013.0  \n",
       "Albania                      3995.0                 2010.0  \n",
       "Algeria                      4318.0                 2014.0  \n",
       "Angola                       4100.0                 2014.0  \n",
       "Antigua and Barbuda         14414.0                 2011.0  "
      ]
     },
     "execution_count": 6,
     "metadata": {},
     "output_type": "execute_result"
    }
   ],
   "source": [
    "imf.head()\n"
   ]
  },
  {
   "cell_type": "code",
   "execution_count": 10,
   "metadata": {
    "colab": {
     "base_uri": "https://localhost:8080/",
     "height": 1251
    },
    "colab_type": "code",
    "id": "wCJojBRCDGcJ",
    "outputId": "2defbda8-b8f1-43fe-cc14-0234126b2683"
   },
   "outputs": [],
   "source": [
    "# Prepare the data set\n",
    "country_stats = pd.merge(life_sat_total, imf, on='Country')"
   ]
  },
  {
   "cell_type": "code",
   "execution_count": 11,
   "metadata": {},
   "outputs": [],
   "source": [
    "# +-+-+-+-+-+-+ +-+-+-+-+-+-+-+-+-+-+\n",
    "# |L|i|n|e|a|r| |R|e|g|r|e|s|s|i|o|n|\n",
    "# +-+-+-+-+-+-+ +-+-+-+-+-+-+-+-+-+-+\n",
    "\n",
    "# X as an independent variable\n",
    "X = np.c_[country_stats['GDP per capita']]\n",
    "\n",
    "# y as a dependent variable - predictor\n",
    "y = np.c_[country_stats['Life satisfaction']]"
   ]
  },
  {
   "cell_type": "code",
   "execution_count": 12,
   "metadata": {},
   "outputs": [
    {
     "data": {
      "image/png": "[encoded data removed]",
      "text/plain": [
       "<Figure size 432x288 with 1 Axes>"
      ]
     },
     "metadata": {
      "needs_background": "light"
     },
     "output_type": "display_data"
    }
   ],
   "source": [
    "## Visualize the data as scatter model to understand the basic correlation between X and y\n",
    "plt.scatter(X, y)\n",
    "plt.xlabel('GDP per Capita')\n",
    "plt.ylabel('Life satisfaction')\n",
    "plt.show()"
   ]
  },
  {
   "cell_type": "code",
   "execution_count": 13,
   "metadata": {},
   "outputs": [
    {
     "data": {
      "text/plain": [
       "LinearRegression(copy_X=True, fit_intercept=True, n_jobs=None,\n",
       "         normalize=False)"
      ]
     },
     "execution_count": 13,
     "metadata": {},
     "output_type": "execute_result"
    }
   ],
   "source": [
    "# Select a linear model\n",
    "model = sklearn.linear_model.LinearRegression()\n",
    "## Train the model\n",
    "model.fit(X, y)"
   ]
  },
  {
   "cell_type": "code",
   "execution_count": 18,
   "metadata": {},
   "outputs": [
    {
     "name": "stdout",
     "output_type": "stream",
     "text": [
      "Cyprus' Life satisfaction based on a LinearRegression: [[5.6886681]]\n"
     ]
    }
   ],
   "source": [
    "#Make a prediction for Cyprus\n",
    "X_new = [[0]] # Cyprus GDP per capita\n",
    "print \"Cyprus' Life satisfaction based on a LinearRegression:\",model.predict(X_new)"
   ]
  },
  {
   "cell_type": "code",
   "execution_count": 19,
   "metadata": {},
   "outputs": [
    {
     "data": {
      "image/png": "[encoded data removed]",
      "text/plain": [
       "<Figure size 432x288 with 1 Axes>"
      ]
     },
     "metadata": {
      "needs_background": "light"
     },
     "output_type": "display_data"
    }
   ],
   "source": [
    "# +-+-+-+-+-+-+-+-+-+-+\n",
    "# |K|N|e|i|g|h|b|o|r|s|\n",
    "# +-+-+-+-+-+-+-+-+-+-+\n",
    "\n",
    "# Visualize the data as a bar model to see the closest countries to Cyprus in terms of GDP per capita (see Spain, Slovenia and Portugal)\n",
    "country_stats.filter(items=['GDP per capita']).sort_values(\"GDP per capita\", ascending=False).plot.bar()\n",
    "plt.xlabel('Country')\n",
    "plt.ylabel('GDP per capita')\n",
    "plt.show()\n"
   ]
  },
  {
   "cell_type": "code",
   "execution_count": 20,
   "metadata": {},
   "outputs": [],
   "source": [
    "#X as an independent variable\n",
    "X = np.c_[country_stats['GDP per capita']]\n",
    "# y as a dependent variable - predictor\n",
    "y = np.c_[country_stats['Life satisfaction']]"
   ]
  },
  {
   "cell_type": "code",
   "execution_count": null,
   "metadata": {},
   "outputs": [],
   "source": [
    "# Select a KNeighbor model - Change the number of KNeighbors to take into account the 3 closest countries\n",
    "model = sklearn.neighbors.KNeighborsRegressor(n_neighbors=0)\n",
    "## Train the model\n",
    "model.fit(X, y)"
   ]
  },
  {
   "cell_type": "code",
   "execution_count": null,
   "metadata": {
    "scrolled": true
   },
   "outputs": [],
   "source": [
    "#Make another prediction for Cyprus\n",
    "X_new = [[0]] # Cyprus GDP per capita\n",
    "\n",
    "print (\"Cyprus' Life satisfaction based on a KNeighborsRegressor:\",model.predict(X_new))"
   ]
  }
 ],
 "metadata": {
  "colab": {
   "name": "reto1_jean.ipynb",
   "provenance": [],
   "version": "0.3.2"
  },
  "kernelspec": {
   "display_name": "Python 2",
   "language": "python",
   "name": "python2"
  },
  "language_info": {
   "codemirror_mode": {
    "name": "ipython",
    "version": 2
   },
   "file_extension": ".py",
   "mimetype": "text/x-python",
   "name": "python",
   "nbconvert_exporter": "python",
   "pygments_lexer": "ipython2",
   "version": "2.7.15rc1"
  }
 },
 "nbformat": 4,
 "nbformat_minor": 1
}
